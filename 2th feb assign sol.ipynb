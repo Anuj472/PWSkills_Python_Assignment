{
 "cells": [
  {
   "cell_type": "markdown",
   "id": "a7665128-939a-4d9a-a836-4c77311698c8",
   "metadata": {},
   "source": [
    "# PWskills Assignment Solution (2th Feb)"
   ]
  },
  {
   "cell_type": "markdown",
   "id": "6f3d3306-ff01-40b8-90d4-11d7b16c33e1",
   "metadata": {},
   "source": [
    "Q1.What are the characteristics of the tuples? Is tuple immutable?"
   ]
  },
  {
   "cell_type": "markdown",
   "id": "dd2525af-33ce-4474-bbb6-17fc5edb23b1",
   "metadata": {},
   "source": [
    "Answer:\n",
    "\n",
    "1.They are indexed.\n",
    "\n",
    "2.Tuples are ordered.\n",
    "\n",
    "3.These are immutable.\n",
    "\n",
    "4.They can contain duplicate items.\n",
    "\n",
    "Tuples are immutable"
   ]
  },
  {
   "cell_type": "markdown",
   "id": "266d0b10-73d7-4abf-83b3-912b495544c3",
   "metadata": {},
   "source": [
    "Q2. What are the two tuple methods in python? Give an example of each method. Give a reason why tuples have only two in-built methods as compared to Lists."
   ]
  },
  {
   "cell_type": "markdown",
   "id": "3eae7ee5-7fed-47ef-960d-a5aace9b559a",
   "metadata": {},
   "source": [
    "Answer:\n",
    "    \n",
    "    There are only two tuples method in python is count() and index()."
   ]
  },
  {
   "cell_type": "code",
   "execution_count": 2,
   "id": "656830f3-717f-4cab-aca8-ae3defc2ca90",
   "metadata": {},
   "outputs": [
    {
     "name": "stdout",
     "output_type": "stream",
     "text": [
      "2\n"
     ]
    }
   ],
   "source": [
    "#count() example\n",
    "thistuple = (1, 3, 7, 8, 7, 5, 4, 6, 8, 5)\n",
    "\n",
    "x = thistuple.count(5)\n",
    "\n",
    "print(x)\n"
   ]
  },
  {
   "cell_type": "code",
   "execution_count": 3,
   "id": "d0e8bb3a-3ed4-4e98-bbe4-4aeaf3d10a23",
   "metadata": {},
   "outputs": [
    {
     "name": "stdout",
     "output_type": "stream",
     "text": [
      "3\n"
     ]
    }
   ],
   "source": [
    "#index() example\n",
    "thistuple = (1, 3, 7, 8, 7, 5, 4, 6, 8, 5)\n",
    "\n",
    "x = thistuple.index(8)\n",
    "\n",
    "print(x)"
   ]
  },
  {
   "cell_type": "markdown",
   "id": "7b234960-fd38-4a3a-b8c6-5552c0b3d9c5",
   "metadata": {},
   "source": [
    "Since a tuple in Python is an immutable data structure. Once they are formed, Tuple elements cannot be changed. As a result, there are just a few methods that may be used to work with tuples."
   ]
  },
  {
   "cell_type": "markdown",
   "id": "7d4c8787-0efc-4f29-b1e8-cbcbc5c2e8c8",
   "metadata": {},
   "source": [
    "Q3.Which collection datatypes in python do not allow duplicate items? Write a code using a set to remove duplicates from the given list.\n",
    "\n",
    "List = [1, 1, 1, 2, 1, 3, 1, 4, 2, 1, 2, 2, 2, 3, 2, 4, 3, 1, 3, 2, 3, 3, 3, 4, 4, 1, 4, 2, 4, 3, 4, 4]"
   ]
  },
  {
   "cell_type": "markdown",
   "id": "4ba80d44-b2e0-4103-8e17-a506ee84eff0",
   "metadata": {},
   "source": [
    "Answer:\n",
    "\n",
    "Set collections does not allow duplicate items.  "
   ]
  },
  {
   "cell_type": "code",
   "execution_count": 5,
   "id": "bb7a13ca-20f9-4f3d-b158-b28b7bbf4d49",
   "metadata": {},
   "outputs": [
    {
     "data": {
      "text/plain": [
       "{1, 2, 3, 4}"
      ]
     },
     "execution_count": 5,
     "metadata": {},
     "output_type": "execute_result"
    }
   ],
   "source": [
    "list = [1, 1, 1, 2, 1, 3, 1, 4, 2, 1, 2, 2, 2, 3, 2, 4, 3, 1, 3, 2, 3, 3, 3, 4, 4, 1, 4, 2, 4, 3, 4, 4]\n",
    "s1 = set(list)\n",
    "s1"
   ]
  },
  {
   "cell_type": "markdown",
   "id": "978008da-3826-40b0-9cec-9978d78257ff",
   "metadata": {},
   "source": [
    "Q4. Explain the difference between the union() and update() methods for a set. Give an example of each method.\n"
   ]
  },
  {
   "cell_type": "markdown",
   "id": "f88147a3-72d9-44fa-ac5d-eb267e6b023c",
   "metadata": {},
   "source": [
    "Answer:\n",
    "\n",
    "Sets can be joined in Python in a number of different ways. For instance, update() adds all the elements of one set to the other. Similarly, union() combines all the elements of the two sets and returns them in a new set. Both union() and update() operations exclude duplicate elements.\n",
    "The union operation returns a new set, set_union, containing all the items from the previous 2 sets, set1, set2.\n",
    "The update method adds the values of set2 into set1."
   ]
  },
  {
   "cell_type": "code",
   "execution_count": 6,
   "id": "1a790063-b357-440f-add2-ab2a680d3f4c",
   "metadata": {},
   "outputs": [
    {
     "name": "stdout",
     "output_type": "stream",
     "text": [
      "{1, 2, 3, 4, 5, 6}\n"
     ]
    }
   ],
   "source": [
    "set1 = {1, 2 , 3}\n",
    "set2 = {4, 5, 6}\n",
    "\n",
    "set_union = set1.union(set2)\n",
    "print(set_union)"
   ]
  },
  {
   "cell_type": "code",
   "execution_count": 7,
   "id": "dd8ab33a-589b-43cc-b50a-4ae86c30615d",
   "metadata": {},
   "outputs": [
    {
     "name": "stdout",
     "output_type": "stream",
     "text": [
      "{1, 2, 3, 4, 5, 6}\n"
     ]
    }
   ],
   "source": [
    "set1 = {1, 2 , 3}\n",
    "set2 = {4, 5, 6}\n",
    "\n",
    "set1.update(set2)\n",
    "print(set1)\n"
   ]
  },
  {
   "cell_type": "markdown",
   "id": "24b0d8b3-0007-40b5-88aa-b224ca007b96",
   "metadata": {},
   "source": [
    "Q5. What is a dictionary? Give an example. Also, state whether a dictionary is ordered or unordered.\n"
   ]
  },
  {
   "cell_type": "markdown",
   "id": "9c97b72a-cbb3-4636-ad84-3fc2997213a6",
   "metadata": {},
   "source": [
    "Answer:\n",
    "The dictionary is an unordered collection that contains key:value pairs separated by commas inside curly brackets. Dictionaries are optimized to retrieve values when the key is known.\n",
    "\n",
    "The following declares a dictionary object."
   ]
  },
  {
   "cell_type": "code",
   "execution_count": 8,
   "id": "f56a80c3-f343-4b0f-88b2-c4eac1ad2324",
   "metadata": {},
   "outputs": [
    {
     "name": "stdout",
     "output_type": "stream",
     "text": [
      "<class 'dict'>\n"
     ]
    }
   ],
   "source": [
    "capitals = {\"USA\":\"Washington D.C.\", \"France\":\"Paris\", \"India\":\"New Delhi\"}\n",
    "print(type(capitals))"
   ]
  },
  {
   "cell_type": "markdown",
   "id": "8f6ee777-c51d-425c-bb26-15b5115e32a9",
   "metadata": {},
   "source": [
    "Q6. Can we create a nested dictionary? If so, please give an example by creating a simple one-level nested dictionary."
   ]
  },
  {
   "cell_type": "markdown",
   "id": "c0b0de98-423b-472d-932f-4d49efecc44b",
   "metadata": {},
   "source": [
    "Answer:\n",
    "\n",
    "Yes, we can create a nested dictionary"
   ]
  },
  {
   "cell_type": "code",
   "execution_count": 10,
   "id": "7d4a50e5-ab34-4864-8357-243bde20c308",
   "metadata": {},
   "outputs": [
    {
     "name": "stdout",
     "output_type": "stream",
     "text": [
      "{'child1': {'name': 'Emil', 'year': 2004}, 'child2': {'name': 'Tobias', 'year': 2007}, 'child3': {'name': 'Linus', 'year': 2011}}\n"
     ]
    }
   ],
   "source": [
    "myfamily = {\n",
    "  \"child1\" : {\n",
    "    \"name\" : \"Emil\",\n",
    "    \"year\" : 2004\n",
    "  },\n",
    "  \"child2\" : {\n",
    "    \"name\" : \"Tobias\",\n",
    "    \"year\" : 2007\n",
    "  },\n",
    "  \"child3\" : {\n",
    "    \"name\" : \"Linus\",\n",
    "    \"year\" : 2011\n",
    "  }\n",
    "}\n",
    "print(myfamily)"
   ]
  },
  {
   "cell_type": "markdown",
   "id": "f81d3479-dd14-4e2f-bf7b-b993717c0df4",
   "metadata": {},
   "source": [
    "Q7. Using setdefault() method, create key named topics in the given dictionary and also add the value of the key as this list ['Python', 'Machine Learning', 'Deep Learning']\n",
    "\n",
    "dict1= {'language': 'Python', 'course': 'Data Science Masters'}\n"
   ]
  },
  {
   "cell_type": "code",
   "execution_count": 12,
   "id": "206b240c-36ab-498e-bbf2-3b5e3653f401",
   "metadata": {},
   "outputs": [
    {
     "data": {
      "text/plain": [
       "{'language': 'Python',\n",
       " 'course': 'Data Science Masters',\n",
       " 'topics': ['Python', 'Machine Learning', 'Deep Learning']}"
      ]
     },
     "execution_count": 12,
     "metadata": {},
     "output_type": "execute_result"
    }
   ],
   "source": [
    "dict1= {'language': 'Python', 'course': 'Data Science Masters'}\n",
    "dict1.setdefault('topics', ['Python', 'Machine Learning', 'Deep Learning'])\n",
    "dict1"
   ]
  },
  {
   "cell_type": "markdown",
   "id": "4eb80476-1b39-494c-bf0f-0c77d3a6c7a1",
   "metadata": {},
   "source": [
    "Q8. What are the three view objects in dictionaries? Use the three in-built methods in python to display these three view objects for the given dictionary.\n",
    "\n",
    "dict1= ('Sport: 'Cricket, Teams': ['India', 'Australia', 'England', 'South Africa', 'Sri Lanka', 'New Zealand']}"
   ]
  },
  {
   "cell_type": "markdown",
   "id": "43cda01d-d27c-497a-8488-9e9bdc190fc1",
   "metadata": {},
   "source": [
    "Answer:\n",
    "\n",
    "The main view objects of dictionary in python are keys, values and items.\n",
    "\n"
   ]
  },
  {
   "cell_type": "code",
   "execution_count": 18,
   "id": "301bad78-7dfa-43f7-a8b6-2d275a5f2b71",
   "metadata": {},
   "outputs": [
    {
     "ename": "SyntaxError",
     "evalue": "incomplete input (1092375164.py, line 10)",
     "output_type": "error",
     "traceback": [
      "\u001b[0;36m  Cell \u001b[0;32mIn[18], line 10\u001b[0;36m\u001b[0m\n\u001b[0;31m    print(items\u001b[0m\n\u001b[0m               ^\u001b[0m\n\u001b[0;31mSyntaxError\u001b[0m\u001b[0;31m:\u001b[0m incomplete input\n"
     ]
    }
   ],
   "source": [
    "dict1= {'Sport': 'Cricket', 'Teams': ['India', 'Australia', 'England', 'South Africa', 'Sri Lanka', 'New Zealand']}\n",
    "        \n",
    "keys = dict1.keys()\n",
    "print(\"Keys of Dictionary:\", keys)\n",
    "\n",
    "v = dict1.values()\n",
    "print(v)\n",
    "\n",
    "items = dict1.items()\n",
    "print(items)"
   ]
  },
  {
   "cell_type": "code",
   "execution_count": null,
   "id": "4352b22d-5d00-4249-8329-875957646f2a",
   "metadata": {},
   "outputs": [],
   "source": []
  }
 ],
 "metadata": {
  "kernelspec": {
   "display_name": "Python 3 (ipykernel)",
   "language": "python",
   "name": "python3"
  },
  "language_info": {
   "codemirror_mode": {
    "name": "ipython",
    "version": 3
   },
   "file_extension": ".py",
   "mimetype": "text/x-python",
   "name": "python",
   "nbconvert_exporter": "python",
   "pygments_lexer": "ipython3",
   "version": "3.10.8"
  }
 },
 "nbformat": 4,
 "nbformat_minor": 5
}
