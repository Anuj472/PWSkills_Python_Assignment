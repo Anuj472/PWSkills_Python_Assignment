{
 "cells": [
  {
   "cell_type": "markdown",
   "id": "435caa79-2964-4f94-abe7-cd1c66c62069",
   "metadata": {},
   "source": [
    "# PWskills 10 Feb Assign Sol"
   ]
  },
  {
   "cell_type": "markdown",
   "id": "776774bd-5c21-4fd5-860a-fe7565ade092",
   "metadata": {},
   "source": [
    "### Q1. Which function is used to open a file? What are the different modes of opening a file? Explain each mode of file opening."
   ]
  },
  {
   "cell_type": "markdown",
   "id": "b77cf5de-861b-431a-9370-2d041955c9d8",
   "metadata": {},
   "source": [
    "### ANswer"
   ]
  },
  {
   "cell_type": "code",
   "execution_count": 6,
   "id": "af392b3f-fa0c-4160-8f3b-ba5ffb7c7686",
   "metadata": {},
   "outputs": [
    {
     "name": "stdout",
     "output_type": "stream",
     "text": [
      "this is my buffer writethis is my second line that i am try to writing\n"
     ]
    }
   ],
   "source": [
    "##function to open a file\n",
    "#MODE - \"r\"\n",
    "file1 = open(\"test.txt\", \"r\")\n",
    "read_content = file1.read()\n",
    "print(read_content)\n",
    "file1.close()"
   ]
  },
  {
   "cell_type": "code",
   "execution_count": 8,
   "id": "fc5f4190-4a37-4956-a401-fe9a2448135f",
   "metadata": {},
   "outputs": [],
   "source": [
    "#Open a file for writing. Creates a new file if it does not exist or truncates the file if it exists.\n",
    "file2 = open(\"test.txt\", \"w\")\n",
    "file2.write(\"this is a blog for data scienc\")\n",
    "file2.write(\"classes were taken by krish naik sir and sudhanshu sir \")\n",
    "file2.close()"
   ]
  },
  {
   "cell_type": "code",
   "execution_count": 9,
   "id": "f12b17f0-8f83-4416-8734-0cc61e5adf88",
   "metadata": {},
   "outputs": [
    {
     "name": "stdout",
     "output_type": "stream",
     "text": [
      "this is a blog for data sciencclasses were taken by krish naik sir and sudhanshu sir \n"
     ]
    }
   ],
   "source": [
    "# we can also use  with ... open without taking worry of closing the file.\n",
    "with open(\"test.txt\", \"r\") as file1:\n",
    "    read_content = file1.read()\n",
    "    print(read_content)"
   ]
  },
  {
   "cell_type": "markdown",
   "id": "9f304dc9-7035-4904-8b6c-f34d6f0a3396",
   "metadata": {},
   "source": [
    "### Q2. Why close() function is used? Why is it important to close a file?"
   ]
  },
  {
   "cell_type": "markdown",
   "id": "453aabac-cc5f-4975-8dd9-1143d1442e03",
   "metadata": {},
   "source": [
    "#### Answer"
   ]
  },
  {
   "cell_type": "markdown",
   "id": "addd25a2-a272-44a9-8639-915a6b3cf199",
   "metadata": {},
   "source": [
    "The close() method of a file object flushes any unwritten information and closes the file object, after which no more writing can be done.\n",
    "\n",
    "Python automatically closes a file when the reference object of a file is reassigned to another file. It is a good practice to use the close() method to close a file."
   ]
  },
  {
   "cell_type": "markdown",
   "id": "690e1263-bbc1-4dab-a34e-bf3ec8bf1ca1",
   "metadata": {},
   "source": [
    "### Q3. Write a python program to create a text file. Write 'I want to become a Data Scientist' in that file. Then close the file. Open this file and read the content of the file.\n"
   ]
  },
  {
   "cell_type": "code",
   "execution_count": 8,
   "id": "47c8b7b9-48cb-4258-b194-1a1f254db060",
   "metadata": {},
   "outputs": [
    {
     "name": "stdout",
     "output_type": "stream",
     "text": [
      "I want to become a Data Scientist\n"
     ]
    }
   ],
   "source": [
    "file3 = open(\"text.txt\", \"w\")\n",
    "file3.write(\"I want to become a Data Scientist\")\n",
    "file3.close()\n",
    "with open(\"text.txt\", \"r\") as file4:\n",
    "    read_content = file4.read()\n",
    "    print(read_content)"
   ]
  },
  {
   "cell_type": "markdown",
   "id": "3ab1d9f2-826e-4e51-b42d-bc4cc6dd0d6a",
   "metadata": {},
   "source": [
    "### Q4. Explain the following with python code: read(), readline() and readlines().\n"
   ]
  },
  {
   "cell_type": "markdown",
   "id": "af427cb7-6a93-4d4a-8cd2-0a0d65009440",
   "metadata": {},
   "source": [
    "### Answer:"
   ]
  },
  {
   "cell_type": "markdown",
   "id": "2d2e7b70-e2df-4e5a-a6cb-f9b621704f2f",
   "metadata": {},
   "source": [
    "read()\n",
    "\n",
    "The read method reads the entire contents of a file and returns it as a string.\n",
    "\n",
    "readline()\n",
    "\n",
    "The readline method reads a single line from a file and returns it as a string. This means that if you use readline, you can read the contents of a file line by line, which can be useful for processing large files that do not fit in memory.\n",
    "\n",
    "readlines()\n",
    "\n",
    "The readline method reads a single line from a file and returns it as a string, while the readlines method reads the entire contents of a file and returns it as a list of strings, where each element of the list is a single line of the file."
   ]
  },
  {
   "cell_type": "code",
   "execution_count": 10,
   "id": "96bcde3e-f81a-4b05-852e-0ab19cbb14d6",
   "metadata": {},
   "outputs": [
    {
     "name": "stdout",
     "output_type": "stream",
     "text": [
      "I want to become a Data Scientist\n"
     ]
    }
   ],
   "source": [
    "with open(\"text.txt\", \"r\") as file:\n",
    "    content = file.read()\n",
    "    print(content)"
   ]
  },
  {
   "cell_type": "code",
   "execution_count": 12,
   "id": "78ebbdf5-9bf0-4b1c-aa83-e411fc203510",
   "metadata": {},
   "outputs": [
    {
     "name": "stdout",
     "output_type": "stream",
     "text": [
      "I want to become a Data Scientist\n"
     ]
    }
   ],
   "source": [
    "with open(\"text.txt\", \"r\") as file:\n",
    "    line = file.readline()\n",
    "    while line:\n",
    "        print(line.strip())\n",
    "        line = file.readline()"
   ]
  },
  {
   "cell_type": "code",
   "execution_count": 14,
   "id": "69a7b145-1840-4f90-be6d-2c230b8e4c77",
   "metadata": {},
   "outputs": [
    {
     "name": "stdout",
     "output_type": "stream",
     "text": [
      "I want to become a Data Scientist\n"
     ]
    }
   ],
   "source": [
    "with open(\"text.txt\", \"r\") as file:\n",
    "    lines = file.readlines()\n",
    "    for line in lines:\n",
    "        print(line.strip())"
   ]
  },
  {
   "cell_type": "markdown",
   "id": "ecc50b66-5920-401b-bde9-bef87ec6db2d",
   "metadata": {},
   "source": [
    "### Q5. Explain why with statement is used with open(). What is the advantage of using with statement and open() together?"
   ]
  },
  {
   "cell_type": "markdown",
   "id": "93f682db-8799-49af-be01-382294028ffb",
   "metadata": {},
   "source": [
    "### Answer:\n",
    "\n",
    "The open() function is generally used for file handling in Python. But it is a standard practice to use context managers like with keywords to handle files as it will automatically release files once its usage is complete.\n",
    "\n",
    "The with statement works with the open() function to open a file. Unlike open() where you have to close the file with the close() method, the with statement closes the file for you without you telling it to. This is because the with statement calls 2 built-in methods."
   ]
  },
  {
   "cell_type": "markdown",
   "id": "18179a16-992d-4248-ac86-3f8648031ee2",
   "metadata": {},
   "source": [
    "### Q6. Explain the write() and writelines() functions. Give a suitable example."
   ]
  },
  {
   "cell_type": "markdown",
   "id": "0c5062c4-fa3a-45d3-9267-ec55f3522f89",
   "metadata": {},
   "source": [
    "#### ANswer:\n",
    "\n",
    "The write() method accepts a string as an argument and writes this string to the text file. \n",
    "\n",
    "Whereas, the writelines() method accepts an iterable i.e. a string or the list of strings as an argument and writes these strings to the text file."
   ]
  },
  {
   "cell_type": "code",
   "execution_count": 15,
   "id": "36721763-5800-4d55-a213-286ecc8bc766",
   "metadata": {},
   "outputs": [
    {
     "name": "stdin",
     "output_type": "stream",
     "text": [
      "Enter the name of the employee:  anuj\n",
      "Enter the name of the employee:  divyanshi\n",
      "Enter the name of the employee:  anoop\n"
     ]
    },
    {
     "name": "stdout",
     "output_type": "stream",
     "text": [
      "Data is written into the file.\n"
     ]
    }
   ],
   "source": [
    "file = open(\"student.txt\", \"w\")\n",
    "  \n",
    "for i in range(3):\n",
    "   name = input(\"Enter the name of the employee: \")\n",
    "   file.write(name)\n",
    "   file.write(\"\\n\")\n",
    "     \n",
    "file.close()\n",
    "  \n",
    "print(\"Data is written into the file.\")"
   ]
  },
  {
   "cell_type": "code",
   "execution_count": 16,
   "id": "5a6baf0d-18fa-4246-82ac-12d1b45851e0",
   "metadata": {},
   "outputs": [
    {
     "name": "stdin",
     "output_type": "stream",
     "text": [
      "Enter the name of the employee:  anuj \n",
      "Enter the name of the employee:  anoop\n",
      "Enter the name of the employee:  ankur\n"
     ]
    },
    {
     "name": "stdout",
     "output_type": "stream",
     "text": [
      "Data is written into the file.\n"
     ]
    }
   ],
   "source": [
    "file1 = open(\"students.txt\", \"w\")\n",
    "lst = []\n",
    "for i in range(3):\n",
    "    name = input(\"Enter the name of the employee: \")\n",
    "    lst.append(name + '\\n')\n",
    "      \n",
    "file1.writelines(lst)\n",
    "file1.close()\n",
    "print(\"Data is written into the file.\") "
   ]
  },
  {
   "cell_type": "code",
   "execution_count": null,
   "id": "cdcc3067-b350-4bae-9a00-c37d826fdca8",
   "metadata": {},
   "outputs": [],
   "source": []
  }
 ],
 "metadata": {
  "kernelspec": {
   "display_name": "Python 3 (ipykernel)",
   "language": "python",
   "name": "python3"
  },
  "language_info": {
   "codemirror_mode": {
    "name": "ipython",
    "version": 3
   },
   "file_extension": ".py",
   "mimetype": "text/x-python",
   "name": "python",
   "nbconvert_exporter": "python",
   "pygments_lexer": "ipython3",
   "version": "3.10.8"
  }
 },
 "nbformat": 4,
 "nbformat_minor": 5
}
