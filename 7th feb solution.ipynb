{
 "cells": [
  {
   "cell_type": "markdown",
   "id": "705ce8e6-c25e-4e4f-b56e-d5e31f40e2b9",
   "metadata": {},
   "source": [
    "# PWskills 7th Feb Assignment Soution"
   ]
  },
  {
   "cell_type": "markdown",
   "id": "0f9ca9fc-fe6d-4f44-b099-a5ac7c8a5dd9",
   "metadata": {},
   "source": [
    "### Q1. You are writing code for a company. The requirement of the company is that you create a python function that will check whether the password entered by the user is correct or not. The function should take the password as input and return the string \"Valid Password\" if the entered password follows the below-given password guidelines else it should return \"Invalid Password\".\n",
    "\n",
    "Note: 1. The Password should contain at least two uppercase letters and at least two lowercase letters.\n",
    "\n",
    "2. The Password should contain at least a number and three special characters.\n",
    "\n",
    "3. The length of the password should be 10 characters long."
   ]
  },
  {
   "cell_type": "code",
   "execution_count": 2,
   "id": "e0a46bc0-3e70-4f9a-96b5-024f7f139330",
   "metadata": {},
   "outputs": [
    {
     "name": "stdout",
     "output_type": "stream",
     "text": [
      "Valid Password\n",
      "Valid Password\n",
      "Invalid Password\n"
     ]
    }
   ],
   "source": [
    "import re\n",
    "uppercase_count=0\n",
    "def check_password(password):\n",
    "    # Check password length\n",
    "    if len(password)< 10:\n",
    "        return \"Invalid Password\"\n",
    "\n",
    "    # Count uppercase and lowercase letters\n",
    "    uppercase_count = sum(1 for char in password if char.isupper())\n",
    "    lowercase_count = sum(1 for char in password if char.islower())\n",
    "\n",
    "    # Check uppercase and lowercase letter count\n",
    "    if uppercase_count < 2 or lowercase_count < 2:\n",
    "        return \"Invalid Password\"\n",
    "\n",
    "    # Check for at least a number and three special characters using regular expressions\n",
    "    if not re.search(r\"\\d\", password) or len(re.findall(r\"[!@#$%^&*]\", password)) < 3:\n",
    "        return \"Invalid Password\"\n",
    "\n",
    "    return \"Valid Password\"\n",
    "\n",
    "\n",
    "# Test the function with different passwords\n",
    "password1 = \"ABCbcdefg123@!!!\"\n",
    "password2 = \"ABbcdefg4@#$\"\n",
    "password3 = \"ABCDEFG123!!!\"\n",
    "password4 = \"abcdefg123!!!\"\n",
    "password5 = \"Abcdefg123\"\n",
    "password6 = \"Abc@#$\"\n",
    "\n",
    "print(check_password(password1))  # Valid Password\n",
    "print(check_password(password2))  # valid Password\n",
    "print(check_password(password3))  # Invalid Password\n",
    "#print(check_password(password4))  # Invalid Password\n",
    "#print(check_password(password5))  # Invalid Password\n",
    "#print(check_password(password6))  # Invalid Password"
   ]
  },
  {
   "cell_type": "markdown",
   "id": "604e2501-a90a-4fd7-9a73-c2f632144ef9",
   "metadata": {
    "tags": []
   },
   "source": [
    "## Q2. Solve the below-given questions using at least one of the following:\n",
    "\n",
    "1. Lambda function\n",
    "\n",
    "2. Filter function\n",
    "\n",
    "3. Map function\n",
    "\n",
    "4. List Comprehension\n",
    "\n",
    "• Check if the string starts with a particular letter.\n",
    "\n",
    "• Check if the string is numeric.\n",
    "\n",
    "Sort a list of tuples having fruit names and their quantity. [(\"mango\",99), (\"orange\",80), (\"grapes\", 1000)]\n",
    "\n",
    "• Find the squares of numbers from 1 to 10.\n",
    "\n",
    ". Find the cube root of numbers from 1 to 10.\n",
    "\n",
    "• Check if a given number is even.\n",
    "\n",
    "• Filter odd numbers from the given list.\n",
    "\n",
    "[1,2,3,4,5,6,7,8,9,10]\n",
    "\n",
    "Sort a list of integers into positive and negative integers lists.\n",
    "\n",
    "[1,2,3,4,5,6,-1,-2,-3,-4,-5,0]"
   ]
  },
  {
   "cell_type": "code",
   "execution_count": 3,
   "id": "aa513b3b-49f2-46cf-bc31-b0702bab846f",
   "metadata": {},
   "outputs": [
    {
     "name": "stdout",
     "output_type": "stream",
     "text": [
      "True\n",
      "True\n",
      "True\n",
      "True\n",
      "True\n",
      "False\n",
      "False\n",
      "False\n",
      "True\n",
      "True\n",
      "False\n",
      "False\n"
     ]
    }
   ],
   "source": [
    "def starts_with_letter(string, letter):\n",
    "    if string.startswith(letter):\n",
    "        return True\n",
    "    else:\n",
    "        return False\n",
    "\n",
    "def is_numeric(string):\n",
    "    if string.isdigit():\n",
    "        return True\n",
    "    try:\n",
    "        float(string)\n",
    "        return True\n",
    "    except ValueError:\n",
    "        return False\n",
    "\n",
    "# Test the functions with different strings\n",
    "string1 = \"Hello World\"\n",
    "string2 = \"Python Programming\"\n",
    "string3 = \"12345\"\n",
    "string4 = \"3.14\"\n",
    "string5 = \"Hello123\"\n",
    "string6 = \"123World\"\n",
    "\n",
    "print(starts_with_letter(string1, \"H\"))  # True\n",
    "print(starts_with_letter(string2, \"P\"))  # True\n",
    "print(starts_with_letter(string3, \"1\"))  # True\n",
    "print(starts_with_letter(string4, \"3\"))  # True\n",
    "print(starts_with_letter(string5, \"H\"))  # True\n",
    "print(starts_with_letter(string6, \"W\"))  # False\n",
    "\n",
    "print(is_numeric(string1))  # False\n",
    "print(is_numeric(string2))  # False\n",
    "print(is_numeric(string3))  # True\n",
    "print(is_numeric(string4))  # True\n",
    "print(is_numeric(string5))  # False\n",
    "print(is_numeric(string6))  # False\n"
   ]
  },
  {
   "cell_type": "code",
   "execution_count": 4,
   "id": "4b6fbaa9-11f9-4c37-a872-7024b0a35c6c",
   "metadata": {},
   "outputs": [
    {
     "data": {
      "text/plain": [
       "[('grapes', 1000), ('mango', 99), ('orange', 80)]"
      ]
     },
     "execution_count": 4,
     "metadata": {},
     "output_type": "execute_result"
    }
   ],
   "source": [
    "# sorting  a list of tuples\n",
    "\n",
    "lst =  [(\"mango\",99), (\"orange\",80), (\"grapes\", 1000)]\n",
    "lst.sort()\n",
    "lst"
   ]
  },
  {
   "cell_type": "code",
   "execution_count": 5,
   "id": "c410d349-11d1-4b84-b4c5-898965fea0a0",
   "metadata": {},
   "outputs": [
    {
     "name": "stdout",
     "output_type": "stream",
     "text": [
      "[1, 4, 9, 16, 25, 36, 49, 64, 81, 100]\n"
     ]
    }
   ],
   "source": [
    "lst1 = [i**2 for i in range(1,11)]\n",
    "print(lst1)"
   ]
  },
  {
   "cell_type": "code",
   "execution_count": 10,
   "id": "b420ec79-fb87-434c-a323-863978ecc0ce",
   "metadata": {},
   "outputs": [
    {
     "name": "stdout",
     "output_type": "stream",
     "text": [
      "[1.0, 1.2599210498948732, 1.4422495703074083, 1.5874010519681994, 1.7099759466766968, 1.8171205928321397, 1.912931182772389, 2.0, 2.080083823051904, 2.154434690031884]\n"
     ]
    }
   ],
   "source": [
    "list2 = [i**(1/3) for i in range(1,11)]\n",
    "print(list2)"
   ]
  },
  {
   "cell_type": "code",
   "execution_count": 11,
   "id": "c8fe06cb-bdf0-4a50-87de-edf7e7c3dc23",
   "metadata": {},
   "outputs": [
    {
     "name": "stdin",
     "output_type": "stream",
     "text": [
      " 10\n"
     ]
    },
    {
     "name": "stdout",
     "output_type": "stream",
     "text": [
      "even\n"
     ]
    }
   ],
   "source": [
    "num = int(input())\n",
    "if num%2==0:\n",
    "    print(\"even\")\n",
    "else:\n",
    "    print(\"odd\")"
   ]
  },
  {
   "cell_type": "code",
   "execution_count": 13,
   "id": "9ac6d0b0-c494-4f76-a2d9-0da53892ae93",
   "metadata": {},
   "outputs": [
    {
     "name": "stdout",
     "output_type": "stream",
     "text": [
      "[1, 3, 5, 7, 9]\n"
     ]
    }
   ],
   "source": [
    "\n",
    "list3=[1,2,3,4,5,6,7,8,9,10]\n",
    "\n",
    "def is_odd(x): return x % 2 != 0\n",
    " \n",
    " \n",
    "# using filter\n",
    "lis2 = list(filter(is_odd, list3))\n",
    " \n",
    "# Printing output\n",
    "print(lis2)"
   ]
  },
  {
   "cell_type": "code",
   "execution_count": 14,
   "id": "838ee3eb-2fd6-4dac-9ccd-524fdde1eaeb",
   "metadata": {},
   "outputs": [],
   "source": [
    "list4=[1,2,3,4,5,6,-1,-2,-3,-4,-5,0]\n",
    "neg_list=[]\n",
    "pos_list = []\n",
    "def is_neg(x): return x<0\n",
    "def is_pos(x): return x>=0\n",
    "neg_list= list(filter(is_ne, list4))\n",
    "pos_list=[list(filter(is_pos, list4))\n"
   ]
  },
  {
   "cell_type": "code",
   "execution_count": null,
   "id": "a63d1de9-0748-45c5-baf2-2eebd00d2c0f",
   "metadata": {},
   "outputs": [],
   "source": []
  }
 ],
 "metadata": {
  "kernelspec": {
   "display_name": "Python 3 (ipykernel)",
   "language": "python",
   "name": "python3"
  },
  "language_info": {
   "codemirror_mode": {
    "name": "ipython",
    "version": 3
   },
   "file_extension": ".py",
   "mimetype": "text/x-python",
   "name": "python",
   "nbconvert_exporter": "python",
   "pygments_lexer": "ipython3",
   "version": "3.10.8"
  }
 },
 "nbformat": 4,
 "nbformat_minor": 5
}
