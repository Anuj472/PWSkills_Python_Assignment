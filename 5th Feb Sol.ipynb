{
 "cells": [
  {
   "cell_type": "markdown",
   "id": "879fa1de-27d9-4669-9b9d-348d4940eb1e",
   "metadata": {},
   "source": [
    "# PWskills 5th Feb Assignment Solution"
   ]
  },
  {
   "cell_type": "markdown",
   "id": "8f0f0398-b28f-4381-810f-207b9f42381c",
   "metadata": {},
   "source": [
    "Q1. Explain Class and Object with respect to Object-Oriented Programming. Give a suitable example."
   ]
  },
  {
   "cell_type": "markdown",
   "id": "5daedf90-b726-45db-90f4-d3ced1ad1c5f",
   "metadata": {},
   "source": [
    "Answer:\n",
    "\n",
    "Classes are user-defined data types that act as the blueprint for individual objects, attributes and methods. Objects are instances of a class created with specifically defined data. Objects can correspond to real-world objects or an abstract entity.A class is not allocated memory when it is defined. An object is allocated memory when it is created. Class is a logical entity whereas objects are physical entities."
   ]
  },
  {
   "cell_type": "code",
   "execution_count": 1,
   "id": "bc2aa8f5-212f-4022-8096-f989e04cd807",
   "metadata": {},
   "outputs": [
    {
     "name": "stdout",
     "output_type": "stream",
     "text": [
      "Anuj\n",
      "22\n"
     ]
    }
   ],
   "source": [
    "class human:\n",
    "    def __init__(self, name , age):\n",
    "        self.name = name\n",
    "        self.age = age\n",
    "\n",
    "m1 = human(\"Anuj\",22)\n",
    "\n",
    "print(m1.name)\n",
    "print(m1.age)"
   ]
  },
  {
   "cell_type": "markdown",
   "id": "8015d873-3623-45af-9a53-2b726b2aa998",
   "metadata": {},
   "source": [
    "Q2. Name the four pillars of OOPS."
   ]
  },
  {
   "cell_type": "markdown",
   "id": "e8c8e670-cc02-4f07-a1ee-5f601e0770f9",
   "metadata": {},
   "source": [
    "Answer: \n",
    "\n",
    "1. Polymorphism\n",
    "2. Encapsulation\n",
    "3. Inheritance\n",
    "4. Abstraction"
   ]
  },
  {
   "cell_type": "markdown",
   "id": "a644df04-e636-4018-95e2-a6e60fa38991",
   "metadata": {},
   "source": [
    "Q3. Explain why the _init_() function is used. Give a suitable example."
   ]
  },
  {
   "cell_type": "markdown",
   "id": "fb920abc-b235-4ba5-9855-9ec2947b0b89",
   "metadata": {},
   "source": [
    "Answer: \n",
    "    \n",
    "Used to gather all package-wide definitions. Leaving this file empty is normal and even good practise. It should only contain code that the package modules and sub-packages need to share,\n",
    "\n",
    "A constructor also contains a collection of statements(i.e. instructions) that are executed at the time of Object creation. It is run as soon as an object of a class is instantiated. The method is useful to do any initialization you want to do with your object."
   ]
  },
  {
   "cell_type": "code",
   "execution_count": 4,
   "id": "05a2f159-5d24-4af0-85ac-725610c779be",
   "metadata": {},
   "outputs": [
    {
     "name": "stdout",
     "output_type": "stream",
     "text": [
      "Anuj\n",
      "Hello, My name is Anuj\n"
     ]
    }
   ],
   "source": [
    "class Person:\n",
    "    def __init__(self, name):\n",
    "        self.name = name \n",
    "        \n",
    "    def hi(self):\n",
    "        print(\"Hello, My name is\", self.name)\n",
    "        \n",
    "m2 = Person(\"Anuj\")\n",
    "\n",
    "print(m2.name)\n",
    "m2.hi()"
   ]
  },
  {
   "cell_type": "markdown",
   "id": "138a069a-41d2-4e89-ac19-117a93af1512",
   "metadata": {},
   "source": [
    "Q4. Why self is used in OOPS?"
   ]
  },
  {
   "cell_type": "markdown",
   "id": "35acfafc-b2d8-4b6f-a788-4f68100535db",
   "metadata": {},
   "source": [
    "Answer:\n",
    "    \n",
    "Self represents the instance of the class. By using the “self”  we can access the attributes and methods of the class in python. It binds the attributes with the given arguments.\n",
    "\n",
    "The reason you need to use self. is because Python does not use the @ syntax to refer to instance attributes. "
   ]
  },
  {
   "cell_type": "markdown",
   "id": "b1866d54-fa74-4755-b580-d0bab764b2f2",
   "metadata": {},
   "source": [
    "Q5. What is inheritance? Give an example for each type of inheritance."
   ]
  },
  {
   "cell_type": "markdown",
   "id": "a6844615-7341-4e5d-a13d-477eafe40949",
   "metadata": {},
   "source": [
    "Answer:\n",
    "\n",
    "Inheritance allows us to define a class that inherits all the methods and properties from another class.\n",
    "\n",
    "Parent class is the class being inherited from, also called base class.\n",
    "\n",
    "Child class is the class that inherits from another class, also called derived class.\n",
    "\n",
    "Types of Inheritance\n",
    "\n",
    "1.Single Inheritance\n",
    "\n",
    "2.Multiple Inheritance\n",
    "\n",
    "3.Multilevel Inheritance\n",
    "\n",
    "4.Hierarchical Inheritance\n",
    "\n",
    "5.Hybrid Inheritance"
   ]
  },
  {
   "cell_type": "code",
   "execution_count": 9,
   "id": "5b5d88f5-bb0b-435f-95e1-49ce5fe4f47c",
   "metadata": {},
   "outputs": [
    {
     "name": "stdout",
     "output_type": "stream",
     "text": [
      "This function is from parent1 class\n",
      "This function is from child class\n"
     ]
    }
   ],
   "source": [
    "# Single Inheritance\n",
    "class Parent1:\n",
    "    def func1(self):\n",
    "        print(\"This function is from parent1 class\")\n",
    "     \n",
    "        \n",
    "#Derived Class\n",
    "class child(Parent1, Parent2):\n",
    "    def func2(self):\n",
    "        print(\"This function is from child class\")\n",
    "        \n",
    "object = child()\n",
    "object.func1()\n",
    "object.func2()\n"
   ]
  },
  {
   "cell_type": "code",
   "execution_count": 10,
   "id": "3e3ba6ef-75a4-4747-aa9e-7ffd936ca435",
   "metadata": {},
   "outputs": [
    {
     "name": "stdout",
     "output_type": "stream",
     "text": [
      "This function is from parent1 class\n",
      "This function is from child class\n",
      "This function is from parent2 class\n"
     ]
    }
   ],
   "source": [
    "# Multiple Inheritance\n",
    "class Parent1:\n",
    "    def func1(self):\n",
    "        print(\"This function is from parent1 class\")\n",
    "     \n",
    "class Parent2:\n",
    "    def func3(self):\n",
    "        print(\"This function is from parent2 class\")\n",
    "        \n",
    "#Derived Class\n",
    "class child(Parent1, Parent2):\n",
    "    def func2(self):\n",
    "        print(\"This function is from child class\")\n",
    "        \n",
    "object = child()\n",
    "object.func1()\n",
    "object.func2()\n",
    "object.func3()"
   ]
  },
  {
   "cell_type": "code",
   "execution_count": 11,
   "id": "740be720-1ae8-499a-8f68-3f03f000bf27",
   "metadata": {},
   "outputs": [
    {
     "name": "stdout",
     "output_type": "stream",
     "text": [
      "BanshRaj\n",
      "Grandfather name : BanshRaj\n",
      "Father name : Bhagwan\n",
      "Son name : Anuj\n"
     ]
    }
   ],
   "source": [
    "#Multilevel Inheritance\n",
    "\n",
    "class Grandfather:\n",
    " \n",
    "    def __init__(self, grandfathername):\n",
    "        self.grandfathername = grandfathername\n",
    " \n",
    "# Intermediate class\n",
    " \n",
    " \n",
    "class Father(Grandfather):\n",
    "    def __init__(self, fathername, grandfathername):\n",
    "        self.fathername = fathername\n",
    " \n",
    "        # invoking constructor of Grandfather class\n",
    "        Grandfather.__init__(self, grandfathername)\n",
    " \n",
    "# Derived class\n",
    " \n",
    " \n",
    "class Son(Father):\n",
    "    def __init__(self, sonname, fathername, grandfathername):\n",
    "        self.sonname = sonname\n",
    " \n",
    "        # invoking constructor of Father class\n",
    "        Father.__init__(self, fathername, grandfathername)\n",
    " \n",
    "    def print_name(self):\n",
    "        print('Grandfather name :', self.grandfathername)\n",
    "        print(\"Father name :\", self.fathername)\n",
    "        print(\"Son name :\", self.sonname)\n",
    " \n",
    " \n",
    "#  Driver code\n",
    "s1 = Son('Anuj', 'Bhagwan', 'BanshRaj')\n",
    "print(s1.grandfathername)\n",
    "s1.print_name()"
   ]
  },
  {
   "cell_type": "code",
   "execution_count": 12,
   "id": "afa1d2f0-3ae2-450a-bf06-867fdb7b0c30",
   "metadata": {},
   "outputs": [
    {
     "name": "stdout",
     "output_type": "stream",
     "text": [
      "This function is in parent class.\n",
      "This function is in child 1.\n",
      "This function is in parent class.\n",
      "This function is in child 2.\n"
     ]
    }
   ],
   "source": [
    "# Hierarchical inheritance\n",
    " \n",
    " \n",
    "# Base class\n",
    "class Parent:\n",
    "    def func1(self):\n",
    "        print(\"This function is in parent class.\")\n",
    " \n",
    "# Derived class1 for child 1\n",
    " \n",
    " \n",
    "class Child1(Parent):\n",
    "    def func2(self):\n",
    "        print(\"This function is in child 1.\")\n",
    " \n",
    "# Derivied class2 for child 2\n",
    " \n",
    " \n",
    "class Child2(Parent):\n",
    "    def func3(self):\n",
    "        print(\"This function is in child 2.\")\n",
    " \n",
    " \n",
    "# Driver's code\n",
    "object1 = Child1()\n",
    "object2 = Child2()\n",
    "object1.func1()\n",
    "object1.func2()\n",
    "object2.func1()\n",
    "object2.func3()"
   ]
  },
  {
   "cell_type": "code",
   "execution_count": null,
   "id": "2aff0d49-6914-4f53-bb87-360be7032818",
   "metadata": {},
   "outputs": [],
   "source": [
    "# hybrid inheritance\n",
    "\n",
    "class cls1:\n",
    "    def func1(self):\n",
    "        print(\"This function is in base class.\")\n",
    " \n",
    " \n",
    "class cls2(School):\n",
    "    def func2(self):\n",
    "        print(\"This function is in student 1. \")\n",
    " \n",
    " \n",
    "class Student2(School):\n",
    "    def func3(self):\n",
    "        print(\"This function is in student 2.\")\n",
    " \n",
    " \n",
    "class Student3(Student1, School):\n",
    "    def func4(self):\n",
    "        print(\"This function is in student 3.\")\n",
    " \n",
    " \n",
    "# Driver's code\n",
    "object = Student3()\n",
    "object.func1()\n",
    "object.func2()"
   ]
  }
 ],
 "metadata": {
  "kernelspec": {
   "display_name": "Python 3 (ipykernel)",
   "language": "python",
   "name": "python3"
  },
  "language_info": {
   "codemirror_mode": {
    "name": "ipython",
    "version": 3
   },
   "file_extension": ".py",
   "mimetype": "text/x-python",
   "name": "python",
   "nbconvert_exporter": "python",
   "pygments_lexer": "ipython3",
   "version": "3.10.8"
  }
 },
 "nbformat": 4,
 "nbformat_minor": 5
}
