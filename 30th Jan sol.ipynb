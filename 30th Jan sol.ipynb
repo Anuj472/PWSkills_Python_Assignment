{
 "cells": [
  {
   "cell_type": "markdown",
   "id": "95f460dd-4cb9-4f78-b92c-94321fcdd47d",
   "metadata": {},
   "source": [
    "#PWskills 30th Jan Assignment"
   ]
  },
  {
   "cell_type": "markdown",
   "id": "99696640-8780-4852-a7df-c3f7b0e862db",
   "metadata": {},
   "source": [
    "Q1.Write a program to accept percentage from the user and display the grade according to tha following criteria:\n",
    "Percentage    Grade\n",
    ">90            A\n",
    ">80 and <=90   B\n",
    ">60 and <=80   C\n",
    "below 60       D"
   ]
  },
  {
   "cell_type": "code",
   "execution_count": 1,
   "id": "ee1ba224-a006-4ff5-840b-fe81d7eeeb58",
   "metadata": {},
   "outputs": [
    {
     "name": "stdin",
     "output_type": "stream",
     "text": [
      " 75\n"
     ]
    },
    {
     "name": "stdout",
     "output_type": "stream",
     "text": [
      "Grade: C\n"
     ]
    }
   ],
   "source": [
    "percent = int(input())\n",
    "if(percent>90):\n",
    "    print(\"Grade: A\")\n",
    "elif(percent>80 and percent<=90):\n",
    "    print(\"Grade: B\")\n",
    "elif(percent>60 and percent<=80):\n",
    "    print(\"Grade: C\")\n",
    "else:\n",
    "    print(\"Grade: D\")"
   ]
  },
  {
   "cell_type": "markdown",
   "id": "fc582bc8-653c-45f1-a6f8-d481467f79e8",
   "metadata": {},
   "source": [
    "Q2.Write a program to accept the cost price •f a bike and display the \ttax to be paid according to the  criteria:\n",
    "Tax              Cost Price(IN Rs)\n",
    "15%              100000\n",
    "10%              >= 50000 and 100000\n",
    "5%               <50000"
   ]
  },
  {
   "cell_type": "code",
   "execution_count": 2,
   "id": "33ac9371-3563-47af-892b-7f9f01679ef6",
   "metadata": {},
   "outputs": [
    {
     "name": "stdin",
     "output_type": "stream",
     "text": [
      " 75000\n"
     ]
    },
    {
     "name": "stdout",
     "output_type": "stream",
     "text": [
      "Tax: 7500.0\n"
     ]
    }
   ],
   "source": [
    "cost_price = int(input())\n",
    "if(cost_price>100000):\n",
    "    print(\"Tax:\", cost_price*15/100)\n",
    "elif(cost_price>50000 and cost_price<=100000):\n",
    "    print(\"Tax:\",cost_price*10/100)\n",
    "else:\n",
    "    print(\"Tax:\", cost_price*5/100)"
   ]
  },
  {
   "cell_type": "markdown",
   "id": "69f99095-0d3a-40c6-8d0c-c77625a9cbb4",
   "metadata": {},
   "source": [
    "Q3.Accept any city from user and  rno num ents of that city.\n",
    "City              Monuments\n",
    "Delhi             Red Fort\n",
    "Agra              Taj Mahal\n",
    "Jaipur            Jal Mahal"
   ]
  },
  {
   "cell_type": "code",
   "execution_count": 4,
   "id": "9eea7848-88d0-4530-9c96-7ed130d54c0a",
   "metadata": {},
   "outputs": [
    {
     "name": "stdin",
     "output_type": "stream",
     "text": [
      " Delhi\n"
     ]
    },
    {
     "name": "stdout",
     "output_type": "stream",
     "text": [
      "Monument: Red Fort\n"
     ]
    }
   ],
   "source": [
    "city = input()\n",
    "if(city==\"Delhi\"):\n",
    "    print(\"Monument: Red Fort\")\n",
    "elif(city==\"Agra\"):\n",
    "    print(\"Monument: Taj Mahal\")\n",
    "elif(city == \"Jaipur\"):\n",
    "    print(\"Monument: Jal Mahal\")"
   ]
  },
  {
   "cell_type": "markdown",
   "id": "d705094e-3eb4-4068-a0d1-5170dbc64877",
   "metadata": {},
   "source": [
    "Q4.Check how many times a given number can be divided by before it is less than or equal to 10."
   ]
  },
  {
   "cell_type": "code",
   "execution_count": 7,
   "id": "425b65e1-f777-4fe9-94e0-7bf53baf636c",
   "metadata": {},
   "outputs": [
    {
     "name": "stdin",
     "output_type": "stream",
     "text": [
      " 3000\n"
     ]
    },
    {
     "name": "stdout",
     "output_type": "stream",
     "text": [
      "5\n"
     ]
    }
   ],
   "source": [
    "number= int(input())\n",
    "count = 0\n",
    "while(number/3>10):\n",
    "    number=number/3\n",
    "    count=count+1\n",
    "print(count)"
   ]
  },
  {
   "cell_type": "markdown",
   "id": "18bdced4-88cf-415c-9366-51ff1dc9b1b5",
   "metadata": {},
   "source": [
    "Q5. Why and When to use While loop explain with detailed example"
   ]
  },
  {
   "cell_type": "markdown",
   "id": "bb8ac9dc-7a94-470c-8428-75695a5ab338",
   "metadata": {},
   "source": [
    "The while loop is usually used when the number of iterations is unknown.\n",
    "1.A while loop evaluates the condition\n",
    "2.If the condition evaluates to True, the code inside the while loop is executed.\n",
    "condition is evaluated again.\n",
    "3.This process continues until the condition is False.\n",
    "4.When condition evaluates to False, the loop stops."
   ]
  },
  {
   "cell_type": "code",
   "execution_count": 9,
   "id": "3ab999cd-7da4-4eee-983e-dc134e10ca89",
   "metadata": {},
   "outputs": [
    {
     "name": "stdin",
     "output_type": "stream",
     "text": [
      "Enter a number:  10\n",
      "Enter a number:  2\n",
      "Enter a number:  3\n",
      "Enter a number:  0\n"
     ]
    },
    {
     "name": "stdout",
     "output_type": "stream",
     "text": [
      "total = 15\n"
     ]
    }
   ],
   "source": [
    "# program to calculate the sum of numbers\n",
    "# until the user enters zero\n",
    "\n",
    "total = 0\n",
    "\n",
    "number = int(input('Enter a number: '))\n",
    "\n",
    "# add numbers until number is zero\n",
    "while number != 0:\n",
    "    total += number    # total = total + number\n",
    "    \n",
    "    # take integer input again\n",
    "    number = int(input('Enter a number: '))\n",
    "    \n",
    "\n",
    "print('total =', total)"
   ]
  },
  {
   "cell_type": "markdown",
   "id": "35b82818-6650-4616-8746-4b2bf2ff9645",
   "metadata": {},
   "source": [
    "Q6. Use nested while loop to print 3 different ** pattern"
   ]
  },
  {
   "cell_type": "code",
   "execution_count": 10,
   "id": "422f0036-2d1c-409a-9550-35561ac1e111",
   "metadata": {},
   "outputs": [
    {
     "name": "stdin",
     "output_type": "stream",
     "text": [
      "Enter the number of rows:  5\n"
     ]
    },
    {
     "name": "stdout",
     "output_type": "stream",
     "text": [
      "* \n",
      "* * \n",
      "* * * \n",
      "* * * * \n",
      "* * * * * \n"
     ]
    }
   ],
   "source": [
    "def pattern(n):\n",
    "   i = 1\n",
    "   while i <= n :\n",
    "      j = 1\n",
    "      while j <= i:\n",
    "         # printing stars\n",
    "         print(\"*\", end=\" \")\n",
    "         j = j + 1\n",
    "      print()\n",
    "      i = i + 1\n",
    " \n",
    "# take inputs\n",
    "n = int(input('Enter the number of rows: '))\n",
    "\n",
    "# calling function\n",
    "pattern(n)"
   ]
  },
  {
   "cell_type": "code",
   "execution_count": 12,
   "id": "ac0bdffe-712c-40c9-be35-3e7187b2947b",
   "metadata": {},
   "outputs": [
    {
     "name": "stdin",
     "output_type": "stream",
     "text": [
      "Enter the number of rows:  6\n"
     ]
    },
    {
     "name": "stdout",
     "output_type": "stream",
     "text": [
      "* * * * * * \n",
      "* * * * * \n",
      "* * * * \n",
      "* * * \n",
      "* * \n",
      "* \n"
     ]
    }
   ],
   "source": [
    "def pattern(n):\n",
    "   i = 1\n",
    "   while i <= n :\n",
    "      j = n\n",
    "      while j >= i:\n",
    "         # printing stars\n",
    "         print(\"*\", end=\" \")\n",
    "         j = j - 1\n",
    "      print()\n",
    "      i = i + 1\n",
    " \n",
    "# take inputs\n",
    "n = int(input('Enter the number of rows: '))\n",
    "\n",
    "# calling function\n",
    "pattern(n)"
   ]
  },
  {
   "cell_type": "code",
   "execution_count": 13,
   "id": "3749bb8b-b333-402b-8977-78cb031bf36a",
   "metadata": {},
   "outputs": [
    {
     "name": "stdin",
     "output_type": "stream",
     "text": [
      "Enter the number of rows:  6\n"
     ]
    },
    {
     "name": "stdout",
     "output_type": "stream",
     "text": [
      "     *\n",
      "    **\n",
      "   ***\n",
      "  ****\n",
      " *****\n",
      "******\n"
     ]
    }
   ],
   "source": [
    "def pattern(n):\n",
    "   i = 1\n",
    "   while i<=n:\n",
    "      # printing stars\n",
    "      print(\" \"*(n-i) + \"*\" * i)\n",
    "      i+=1 \n",
    " \n",
    "# take inputs\n",
    "n = int(input('Enter the number of rows: '))\n",
    "\n",
    "# calling function\n",
    "pattern(n)"
   ]
  },
  {
   "cell_type": "markdown",
   "id": "e052887c-3359-49d3-8acc-b8adaa936d43",
   "metadata": {},
   "source": [
    "Q7. reverse a while loop to display number from 10 to 1"
   ]
  },
  {
   "cell_type": "code",
   "execution_count": 14,
   "id": "a8484c0c-7695-4b38-bfaa-73424154e6e3",
   "metadata": {},
   "outputs": [
    {
     "name": "stdout",
     "output_type": "stream",
     "text": [
      "10\n",
      "9\n",
      "8\n",
      "7\n",
      "6\n",
      "5\n",
      "4\n",
      "3\n",
      "2\n",
      "1\n"
     ]
    }
   ],
   "source": [
    "i = 10\n",
    "while i > 0:\n",
    "    print(i)\n",
    "    i = i - 1"
   ]
  },
  {
   "cell_type": "code",
   "execution_count": null,
   "id": "9bb798b1-e9db-4476-9f82-7e1094da2e45",
   "metadata": {},
   "outputs": [],
   "source": []
  }
 ],
 "metadata": {
  "kernelspec": {
   "display_name": "Python 3 (ipykernel)",
   "language": "python",
   "name": "python3"
  },
  "language_info": {
   "codemirror_mode": {
    "name": "ipython",
    "version": 3
   },
   "file_extension": ".py",
   "mimetype": "text/x-python",
   "name": "python",
   "nbconvert_exporter": "python",
   "pygments_lexer": "ipython3",
   "version": "3.10.8"
  }
 },
 "nbformat": 4,
 "nbformat_minor": 5
}
