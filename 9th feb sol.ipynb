{
 "cells": [
  {
   "cell_type": "markdown",
   "id": "b7aa3f0a-9977-4791-af42-70b6a814ae1b",
   "metadata": {},
   "source": [
    "# PWskills 9th feb Assignment Solution"
   ]
  },
  {
   "cell_type": "markdown",
   "id": "c26c5d12-47e7-4b27-b6c6-2f06cd7620ca",
   "metadata": {},
   "source": [
    "### Q1, Create a vehicle class with an init method having instance variables as name_of_vehicle, max_speed and average_of_vehicle."
   ]
  },
  {
   "cell_type": "code",
   "execution_count": 14,
   "id": "6283163b-c4e1-4674-bc07-73ee7cc507bd",
   "metadata": {},
   "outputs": [
    {
     "name": "stdout",
     "output_type": "stream",
     "text": [
      "Car\n",
      "200\n",
      "50\n"
     ]
    }
   ],
   "source": [
    "class Vehicle:\n",
    "    def __init__(self, name_of_vehicle, max_speed, average_of_vehicle):\n",
    "        self.name_of_vehicle = name_of_vehicle\n",
    "        self.max_speed = max_speed\n",
    "        self.average_of_vehicle = average_of_vehicle\n",
    "        \n",
    "# Create a new instance of the Vehicle class\n",
    "car = Vehicle(\"Car\", 200, 50)\n",
    "\n",
    "# Access the instance variables\n",
    "print(car.name_of_vehicle)         # Output: Car\n",
    "print(car.max_speed)               # Output: 200\n",
    "print(car.average_of_vehicle)       # Output: 50\n"
   ]
  },
  {
   "cell_type": "markdown",
   "id": "815962bc-a14b-4318-b0ca-e9c893a91ba2",
   "metadata": {},
   "source": [
    "### Q2. Create a child class car from the vehicle class created in Que 1, which will inherit the vehicle class. Create a method named seating_capacity which takes capacity as an argument and returns the name of the vehicle and its seating capacity.\n"
   ]
  },
  {
   "cell_type": "code",
   "execution_count": 15,
   "id": "d886ee7c-ade5-43ed-8112-57dd92108680",
   "metadata": {},
   "outputs": [
    {
     "name": "stdout",
     "output_type": "stream",
     "text": [
      "Name of Car:Car - Seating Capacity: 4\n"
     ]
    }
   ],
   "source": [
    "class Car(Vehicle):\n",
    "    def seating_capacity(self, capacity):\n",
    "        print(f\"Name of Car:{self.name_of_vehicle} - Seating Capacity: {capacity}\")\n",
    "    \n",
    "# Create a new instance of the Car class\n",
    "car = Car(\"Car\", 200, 50)\n",
    "\n",
    "# Use the seating_capacity method\n",
    "capacity = 4\n",
    "result = car.seating_capacity(capacity)\n",
    "\n",
    "    \n",
    "    "
   ]
  },
  {
   "cell_type": "code",
   "execution_count": 17,
   "id": "78e13953-8246-4b35-9d05-7bb90cc2b418",
   "metadata": {},
   "outputs": [
    {
     "name": "stdout",
     "output_type": "stream",
     "text": [
      "Car\n",
      "Name of Car:Car - Seating Capacity: 4\n",
      "None\n"
     ]
    }
   ],
   "source": [
    "print(car.name_of_vehicle)         # Output: Car\n",
    "print(car.seating_capacity(capacity))      "
   ]
  },
  {
   "cell_type": "markdown",
   "id": "54eacbc3-5e42-4639-b962-be63db6a5bef",
   "metadata": {},
   "source": [
    "### Q3. What is multiple inheritance? Write a python code to demonstrate multiple inheritance.\n"
   ]
  },
  {
   "cell_type": "code",
   "execution_count": 1,
   "id": "d354f309-d1a4-473b-9c57-90969bba2613",
   "metadata": {},
   "outputs": [
    {
     "name": "stdout",
     "output_type": "stream",
     "text": [
      "Toyota\n",
      "Petrol\n",
      "Red\n"
     ]
    }
   ],
   "source": [
    "class Vehicle:\n",
    "    def __init__(self, name):\n",
    "        self.name = name\n",
    "\n",
    "    def get_name(self):\n",
    "        return self.name\n",
    "\n",
    "\n",
    "class Engine:\n",
    "    def __init__(self, fuel_type):\n",
    "        self.fuel_type = fuel_type\n",
    "\n",
    "    def get_fuel_type(self):\n",
    "        return self.fuel_type\n",
    "\n",
    "\n",
    "class Car(Vehicle, Engine):\n",
    "    def __init__(self, name, fuel_type, color):\n",
    "        Vehicle.__init__(self, name)\n",
    "        Engine.__init__(self, fuel_type)\n",
    "        self.color = color\n",
    "\n",
    "    def get_color(self):\n",
    "        return self.color\n",
    "\n",
    "\n",
    "# Create an instance of the Car class\n",
    "my_car = Car(\"Toyota\", \"Petrol\", \"Red\")\n",
    "\n",
    "# Access the attributes and methods from multiple parent classes\n",
    "print(my_car.get_name())        \n",
    "print(my_car.get_fuel_type())  \n",
    "print(my_car.get_color())       \n"
   ]
  },
  {
   "cell_type": "markdown",
   "id": "127a8237-581c-4c33-90c4-0df35a618183",
   "metadata": {},
   "source": [
    "### Q4. What are getter and setter in python? Create a class and create a getter and a setter method in this class."
   ]
  },
  {
   "cell_type": "markdown",
   "id": "eca8f497-e68f-4996-87bb-9e99f197533c",
   "metadata": {},
   "source": [
    "### Answer:\n",
    "\n",
    "In Python, getter and setter methods are used to control access to class attributes and provide a way to get and set their values. They are commonly used when you want to add additional logic or validation when getting or setting attribute values. Getter methods are used to retrieve the value of an attribute, while setter methods are used to modify the value of an attribute."
   ]
  },
  {
   "cell_type": "code",
   "execution_count": 5,
   "id": "bf3b6d60-291c-42d7-9415-470fa8997022",
   "metadata": {},
   "outputs": [
    {
     "name": "stdout",
     "output_type": "stream",
     "text": [
      "John\n",
      "Alice\n"
     ]
    }
   ],
   "source": [
    "class Person:\n",
    "    def __init__(self, name):\n",
    "        self.__name = name\n",
    "\n",
    "    def get_name(self):\n",
    "        return self.__name\n",
    "\n",
    "    def set_name(self, name):\n",
    "        self.__name = name\n",
    "# Create a new instance of the Person class\n"
   ]
  },
  {
   "cell_type": "code",
   "execution_count": null,
   "id": "e3874f61-f48a-4844-a737-afe03599e835",
   "metadata": {},
   "outputs": [],
   "source": [
    "person = Person(\"John\")\n",
    "\n",
    "# Get the name using the getter method\n",
    "print(person.get_name())  # Output: John\n",
    "\n",
    "# Set a new name using the setter method\n",
    "person.set_name(\"Alice\")\n",
    "\n",
    "# Get the updated name\n",
    "print(person.get_name())  # Output: Alic"
   ]
  },
  {
   "cell_type": "markdown",
   "id": "700e4257-4a11-48d7-b782-f476464b66e0",
   "metadata": {},
   "source": [
    "### Q5.What is method overriding in python? Write a python code to demonstrate method overriding."
   ]
  },
  {
   "cell_type": "code",
   "execution_count": null,
   "id": "c323578e-aef9-4d95-8f20-3686ea332de9",
   "metadata": {},
   "outputs": [],
   "source": [
    "### Answer"
   ]
  },
  {
   "cell_type": "code",
   "execution_count": 8,
   "id": "18a932fa-526b-40f2-8b5d-b289f3c310ba",
   "metadata": {},
   "outputs": [
    {
     "name": "stdout",
     "output_type": "stream",
     "text": [
      "Vehicle is moving.\n",
      "Car is moving.\n"
     ]
    }
   ],
   "source": [
    "class Vehicle:\n",
    "    def move(self):\n",
    "        print(\"Vehicle is moving.\")\n",
    "\n",
    "\n",
    "class Car(Vehicle):\n",
    "    def move(self):\n",
    "        print(\"Car is moving.\")\n",
    "\n",
    "\n",
    "# Create instances of Vehicle and Car\n",
    "vehicle = Vehicle()\n",
    "car = Car()\n",
    "\n",
    "# Call the move() method on both instances\n",
    "vehicle.move() \n",
    "car.move()      \n"
   ]
  },
  {
   "cell_type": "code",
   "execution_count": null,
   "id": "8cc390f6-5b7b-4f35-a775-053c3f04fc03",
   "metadata": {},
   "outputs": [],
   "source": []
  }
 ],
 "metadata": {
  "kernelspec": {
   "display_name": "Python 3 (ipykernel)",
   "language": "python",
   "name": "python3"
  },
  "language_info": {
   "codemirror_mode": {
    "name": "ipython",
    "version": 3
   },
   "file_extension": ".py",
   "mimetype": "text/x-python",
   "name": "python",
   "nbconvert_exporter": "python",
   "pygments_lexer": "ipython3",
   "version": "3.10.8"
  }
 },
 "nbformat": 4,
 "nbformat_minor": 5
}
