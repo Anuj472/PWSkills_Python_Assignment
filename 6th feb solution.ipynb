{
 "cells": [
  {
   "cell_type": "markdown",
   "id": "45205051-01e5-4282-b9f7-71cf4484bf74",
   "metadata": {},
   "source": [
    "# PWskills 6th Feb Assignment Solution  "
   ]
  },
  {
   "cell_type": "markdown",
   "id": "9e1a776e-539f-487e-b7e4-d14d242f7e97",
   "metadata": {},
   "source": [
    "### Q1.  Create a function which will take a list as an argument and return the product of all the numbers after creating a flat list.\n",
    "\n",
    "Use the below-given list as an argument for your function.\n",
    "\n",
    "list= [1,2,3,4, [44,55,66, True], False, (34,56,78,89,34), (1,2,3,3,2,1), (1:34, \"key2\": [55, 67, 78, 89], 4: (45, 22, 61, 34)), [56, 'data science'], 'Machine Learning]"
   ]
  },
  {
   "cell_type": "markdown",
   "id": "898c5e65-1f64-4c63-bc29-9e487d754b48",
   "metadata": {},
   "source": [
    "## Answer: "
   ]
  },
  {
   "cell_type": "code",
   "execution_count": 14,
   "id": "7d350d3d-208c-4222-a168-df3f586109fb",
   "metadata": {},
   "outputs": [
    {
     "name": "stdout",
     "output_type": "stream",
     "text": [
      "Product: 24808271033922512873003047452672000\n"
     ]
    },
    {
     "data": {
      "text/plain": [
       "[1,\n",
       " 2,\n",
       " 3,\n",
       " 4,\n",
       " 44,\n",
       " 55,\n",
       " 66,\n",
       " 34,\n",
       " 56,\n",
       " 78,\n",
       " 89,\n",
       " 34,\n",
       " 1,\n",
       " 2,\n",
       " 3,\n",
       " 3,\n",
       " 2,\n",
       " 1,\n",
       " 1,\n",
       " 4,\n",
       " 34,\n",
       " 55,\n",
       " 67,\n",
       " 78,\n",
       " 89,\n",
       " 45,\n",
       " 22,\n",
       " 61,\n",
       " 34,\n",
       " 56]"
      ]
     },
     "execution_count": 14,
     "metadata": {},
     "output_type": "execute_result"
    }
   ],
   "source": [
    "def calculate_product(lst):\n",
    "    flattened_list = flatten_list(lst)\n",
    "    product = 1\n",
    "\n",
    "    for num in flattened_list:\n",
    "        if isinstance(num, (int, float)):\n",
    "            product *= num\n",
    "\n",
    "    return product\n",
    "\n",
    "\n",
    "def flatten_list(lst):\n",
    "    flattened = []\n",
    "\n",
    "    for item in lst:\n",
    "        if(type(item)==list or type(item)==tuple):\n",
    "            flattened.extend(flatten_list(item))\n",
    "        elif(type(item)==int or type(item)== float):\n",
    "            flattened.append(item)\n",
    "        elif(type(item)==dict):\n",
    "            for j in item.keys():\n",
    "                if type(j)==int or type(j)==float:\n",
    "                    flattened.append(j)\n",
    "            for k in item.values():\n",
    "                if type(k)==int or type(k)==float:\n",
    "                    flattened.append(k)\n",
    "                elif(type(k)==list or type(k)==tuple):\n",
    "                    flattened.extend(flatten_list(k))\n",
    "\n",
    "    return flattened\n",
    "\n",
    "\n",
    "# Test the function with the given list\n",
    "lst = [1, 2, 3, 4, [44, 55, 66, True], False, (34, 56, 78, 89, 34), (1, 2, 3, 3, 2, 1),\n",
    "       {1: 34, \"key2\": [55, 67, 78, 89], 4: (45, 22, 61, 34)}, [56, 'data science'], 'Machine Learning']\n",
    "product = calculate_product(lst)\n",
    "print(\"Product:\", product)\n",
    "list1 = flatten_list(lst)\n",
    "list1"
   ]
  },
  {
   "cell_type": "markdown",
   "id": "f22b62a8-cfcf-4ae7-ac46-f4cabcf06cea",
   "metadata": {},
   "source": [
    "### Q2. Write a python program for encrypting a message sent to you by your friend. The logic of encryption should be such that, for a the output should be z. For b, the output should be y. For c, the output should be x respectively. Also, the whitespace should be replaced with a dollar sign. Keep the punctuation marks unchanged.\n",
    "\n",
    "Input Sentence: I want to become a Data Scientist.\n",
    "\n",
    "Encrypt the above input sentence using the program you just created.\n",
    "\n",
    "Note: Convert the given input sentence into lowercase before encrypting. The final output should be lowercase."
   ]
  },
  {
   "cell_type": "code",
   "execution_count": 15,
   "id": "f867873c-bcd9-44c9-a481-f3736619a35a",
   "metadata": {},
   "outputs": [
    {
     "name": "stdout",
     "output_type": "stream",
     "text": [
      "Encrypted Sentence: $z$$yx$z$zz$x.\n"
     ]
    }
   ],
   "source": [
    "\n",
    "\n",
    "def encrypt_message(message):\n",
    "    encrypted = \"\"\n",
    "\n",
    "    for char in message:\n",
    "        if char.isalpha():\n",
    "            if char== 'a':\n",
    "                encrypted +='z'\n",
    "            elif char== 'b':\n",
    "                encrypted += 'y'\n",
    "            elif char== 'c':\n",
    "                encrypted += 'x'\n",
    "        elif char.isspace():\n",
    "            encrypted += \"$\"\n",
    "        else:\n",
    "            encrypted += char\n",
    "\n",
    "    return encrypted.lower()\n",
    "\n",
    "\n",
    "# Test the program with the given input sentence\n",
    "input_sentence = \"I want to become a Data Scientist.\"\n",
    "encrypted_sentence = encrypt_message(input_sentence.lower())\n",
    "print(\"Encrypted Sentence:\", encrypted_sentence)\n",
    "\n"
   ]
  },
  {
   "cell_type": "code",
   "execution_count": null,
   "id": "b9f385a6-8a7a-49d5-b257-103980361463",
   "metadata": {},
   "outputs": [],
   "source": []
  }
 ],
 "metadata": {
  "kernelspec": {
   "display_name": "Python 3 (ipykernel)",
   "language": "python",
   "name": "python3"
  },
  "language_info": {
   "codemirror_mode": {
    "name": "ipython",
    "version": 3
   },
   "file_extension": ".py",
   "mimetype": "text/x-python",
   "name": "python",
   "nbconvert_exporter": "python",
   "pygments_lexer": "ipython3",
   "version": "3.10.8"
  }
 },
 "nbformat": 4,
 "nbformat_minor": 5
}
