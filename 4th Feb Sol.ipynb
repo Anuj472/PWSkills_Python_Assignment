{
 "cells": [
  {
   "cell_type": "markdown",
   "id": "a4cef615-af7c-47bb-b4b9-3d60fbe0a2a1",
   "metadata": {},
   "source": [
    "# PWskills 4th Feb Assignment Solution"
   ]
  },
  {
   "cell_type": "markdown",
   "id": "be9f4e17-a085-4f11-966d-3f6aed12d362",
   "metadata": {},
   "source": [
    "Q1. Create a python program to sort the given list of tuples based on integer value using a lambda function.\n",
    "[('Sachin Tendulkar', 34357), ('Ricky Ponting', 27483), ('Jack Kallis', 25534), ('Virat Kohli', 24936)]\n"
   ]
  },
  {
   "cell_type": "code",
   "execution_count": 3,
   "id": "5465f1d5-8b68-4fae-8e36-8b0454b20638",
   "metadata": {},
   "outputs": [
    {
     "name": "stdout",
     "output_type": "stream",
     "text": [
      "Original list of tuples:\n",
      "[('Sachin Tendulkar', 34357), ('Ricky Ponting', 27483), ('Jack Kallis', 25534), ('Virat Kohli', 24936)]\n",
      "\n",
      "Sorting the List of Tuples:\n",
      "[('Virat Kohli', 24936), ('Jack Kallis', 25534), ('Ricky Ponting', 27483), ('Sachin Tendulkar', 34357)]\n"
     ]
    }
   ],
   "source": [
    "player= [('Sachin Tendulkar', 34357), ('Ricky Ponting', 27483), ('Jack Kallis', 25534), ('Virat Kohli', 24936)]\n",
    "\n",
    "print(\"Original list of tuples:\")\n",
    "print(player)\n",
    "player.sort(key = lambda x: x[1])\n",
    "print(\"\\nSorting the List of Tuples:\")\n",
    "print(player)"
   ]
  },
  {
   "cell_type": "markdown",
   "id": "8cc2b8c0-2520-417e-9ef5-3b2214b80eb0",
   "metadata": {},
   "source": [
    "Q2.Q2. Write a Python Program to find the squares of all the numbers in the given list of integers using lambda and map functions.\n",
    "\n",
    "[1, 2, 3, 4, 5, 6, 7, 8, 9, 10]"
   ]
  },
  {
   "cell_type": "code",
   "execution_count": 9,
   "id": "29bec1b4-d128-42b1-9554-4b96e1b0520a",
   "metadata": {},
   "outputs": [
    {
     "name": "stdout",
     "output_type": "stream",
     "text": [
      "[1, 4, 9, 16, 25, 36, 49, 64, 81, 100]\n"
     ]
    }
   ],
   "source": [
    "lst1 = [1, 2, 3, 4, 5, 6, 7, 8, 9, 10]\n",
    "lst2=list(map(lambda i: i*i, lst1))\n",
    "print(lst2)"
   ]
  },
  {
   "cell_type": "markdown",
   "id": "3513f397-10c1-4688-a005-c3864a41a3b3",
   "metadata": {},
   "source": [
    "Q3. Write a python program to convert the given list of integers into a tuple of strings. Use map and lambda functions\n",
    "\n",
    "Given String: [1, 2, 3, 4, 5, 6, 7, 8, 9, 10]"
   ]
  },
  {
   "cell_type": "code",
   "execution_count": 12,
   "id": "9c7ae5f1-ecfd-4090-afd4-fecc1a96f9ca",
   "metadata": {},
   "outputs": [
    {
     "name": "stdout",
     "output_type": "stream",
     "text": [
      "('1', '2', '3', '4', '5', '6', '7', '8', '9', '10')\n"
     ]
    }
   ],
   "source": [
    "# use the map() function and lambda to create a list of strings\n",
    "lst1 =[1, 2, 3, 4, 5, 6, 7, 8, 9, 10]\n",
    "str1= tuple(map(lambda x: str(x), lst1))\n",
    " \n",
    "\n",
    "# print the final string\n",
    "print(str1) # 1,2,3,4v"
   ]
  },
  {
   "cell_type": "markdown",
   "id": "eaf314c2-1a11-448d-b706-8e4d8cdcd555",
   "metadata": {},
   "source": [
    "Q4. Write a python program using reduce function to compute the product of a list containing numbers from 1 to 25."
   ]
  },
  {
   "cell_type": "code",
   "execution_count": 21,
   "id": "244e5cb9-f8bb-49bd-bffe-b5c238c5aa43",
   "metadata": {},
   "outputs": [
    {
     "name": "stdout",
     "output_type": "stream",
     "text": [
      "15511210043330985984000000\n"
     ]
    }
   ],
   "source": [
    "import functools \n",
    "ls1 = [ i for i in range(1,26)]\n",
    "print(functools.reduce(lambda a, b: a*b, ls1))"
   ]
  },
  {
   "cell_type": "markdown",
   "id": "ae839e5c-cc1a-4f71-b755-2c02c21b71cd",
   "metadata": {},
   "source": [
    "Q5. Write a python program to filter the numbers in a given list that are divisible by 2 and 3 using the filter function.\n",
    "\n",
    "[2, 3, 6, 9, 27, 60, 90, 120, 55, 46]\n"
   ]
  },
  {
   "cell_type": "code",
   "execution_count": 28,
   "id": "0ef6669a-69f6-441f-92f4-8cf37dd81fa8",
   "metadata": {},
   "outputs": [
    {
     "name": "stdout",
     "output_type": "stream",
     "text": [
      "6\n",
      "60\n",
      "90\n",
      "120\n"
     ]
    }
   ],
   "source": [
    "ls1 = [2, 3, 6, 9, 27, 60, 90, 120, 55, 46]\n",
    "def myFunc(x):\n",
    "  if x%2==0 and x%3==0:\n",
    "    return True\n",
    "  else:\n",
    "    return False\n",
    "\n",
    "divisible = filter(myFunc, ls1)\n",
    "\n",
    "for x in divisible:\n",
    "  print(x)"
   ]
  },
  {
   "cell_type": "markdown",
   "id": "54248103-028e-48b4-90f8-9d1439a7fe05",
   "metadata": {},
   "source": [
    "Q6. Write a python program to find palindromes in the given list of strings using lambda and filter function.\n",
    "\n",
    "['python', 'php', 'aba', 'radar', 'level']"
   ]
  },
  {
   "cell_type": "code",
   "execution_count": null,
   "id": "477a67ce-9b1f-4cb1-b6d7-cdcc5961e552",
   "metadata": {},
   "outputs": [],
   "source": []
  }
 ],
 "metadata": {
  "kernelspec": {
   "display_name": "Python 3 (ipykernel)",
   "language": "python",
   "name": "python3"
  },
  "language_info": {
   "codemirror_mode": {
    "name": "ipython",
    "version": 3
   },
   "file_extension": ".py",
   "mimetype": "text/x-python",
   "name": "python",
   "nbconvert_exporter": "python",
   "pygments_lexer": "ipython3",
   "version": "3.10.8"
  }
 },
 "nbformat": 4,
 "nbformat_minor": 5
}
